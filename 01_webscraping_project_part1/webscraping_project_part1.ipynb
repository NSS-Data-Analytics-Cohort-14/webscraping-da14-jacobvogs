{
 "cells": [
  {
   "cell_type": "code",
   "execution_count": 252,
   "id": "fee976e5-215f-4d20-9ca7-1c0e19636bb3",
   "metadata": {},
   "outputs": [
    {
     "ename": "SyntaxError",
     "evalue": "invalid syntax (4191948159.py, line 2)",
     "output_type": "error",
     "traceback": [
      "\u001b[0;36m  Cell \u001b[0;32mIn[252], line 2\u001b[0;36m\u001b[0m\n\u001b[0;31m    pip install html5lib\u001b[0m\n\u001b[0m        ^\u001b[0m\n\u001b[0;31mSyntaxError\u001b[0m\u001b[0;31m:\u001b[0m invalid syntax\n"
     ]
    }
   ],
   "source": [
    "import requests\n",
    "!pip install html5lib\n",
    "!pip install lxml\n",
    "!pip install beautifulSoup4\n",
    "\n",
    "import html5lib\n",
    "import lxml\n",
    "from bs4 import BeautifulSoup"
   ]
  },
  {
   "cell_type": "code",
   "execution_count": 254,
   "id": "ebef9783-e34d-4074-9201-7bb54ec1a19e",
   "metadata": {},
   "outputs": [],
   "source": [
    "URL = 'https://realpython.github.io/fake-jobs/'\n",
    "\n",
    "response = requests.get(URL)"
   ]
  },
  {
   "cell_type": "code",
   "execution_count": 256,
   "id": "69947fa4-6e37-40dc-9fb0-d55d7158c371",
   "metadata": {},
   "outputs": [],
   "source": [
    "response=requests.get(url)"
   ]
  },
  {
   "cell_type": "code",
   "execution_count": 258,
   "id": "983215a6-ae1c-411f-956e-3eb4d99ffac5",
   "metadata": {},
   "outputs": [
    {
     "data": {
      "text/plain": [
       "200"
      ]
     },
     "execution_count": 258,
     "metadata": {},
     "output_type": "execute_result"
    }
   ],
   "source": [
    "response.status_code"
   ]
  },
  {
   "cell_type": "code",
   "execution_count": 191,
   "id": "031619e5-7086-4566-8a84-282b54898e9d",
   "metadata": {},
   "outputs": [],
   "source": [
    "from bs4 import BeautifulSoup"
   ]
  },
  {
   "cell_type": "code",
   "execution_count": 237,
   "id": "92cb9a9c-caf5-4e16-8af7-ea441ecf405d",
   "metadata": {},
   "outputs": [],
   "source": [
    "soup = BeautifulSoup(response.text,\"lxml\")"
   ]
  },
  {
   "cell_type": "code",
   "execution_count": null,
   "id": "044150f2-83df-4743-ab2d-2ad894f66b4d",
   "metadata": {},
   "outputs": [],
   "source": []
  },
  {
   "cell_type": "code",
   "execution_count": 240,
   "id": "0958f2c4-8a2b-4aa2-bbed-5d9e370b3fda",
   "metadata": {},
   "outputs": [
    {
     "data": {
      "text/plain": [
       "<h2 class=\"title is-5\">Senior Python Developer</h2>"
      ]
     },
     "execution_count": 240,
     "metadata": {},
     "output_type": "execute_result"
    }
   ],
   "source": [
    "soup.find_all('h2')[0]"
   ]
  },
  {
   "cell_type": "code",
   "execution_count": 242,
   "id": "e564c255-88ff-4c38-9234-89830405ee19",
   "metadata": {},
   "outputs": [
    {
     "data": {
      "text/plain": [
       "[<h2 class=\"title is-5\">Senior Python Developer</h2>,\n",
       " <h2 class=\"title is-5\">Energy engineer</h2>,\n",
       " <h2 class=\"title is-5\">Legal executive</h2>,\n",
       " <h2 class=\"title is-5\">Fitness centre manager</h2>,\n",
       " <h2 class=\"title is-5\">Product manager</h2>,\n",
       " <h2 class=\"title is-5\">Medical technical officer</h2>,\n",
       " <h2 class=\"title is-5\">Physiological scientist</h2>,\n",
       " <h2 class=\"title is-5\">Textile designer</h2>,\n",
       " <h2 class=\"title is-5\">Television floor manager</h2>,\n",
       " <h2 class=\"title is-5\">Waste management officer</h2>,\n",
       " <h2 class=\"title is-5\">Software Engineer (Python)</h2>,\n",
       " <h2 class=\"title is-5\">Interpreter</h2>,\n",
       " <h2 class=\"title is-5\">Architect</h2>,\n",
       " <h2 class=\"title is-5\">Meteorologist</h2>,\n",
       " <h2 class=\"title is-5\">Audiological scientist</h2>,\n",
       " <h2 class=\"title is-5\">English as a second language teacher</h2>,\n",
       " <h2 class=\"title is-5\">Surgeon</h2>,\n",
       " <h2 class=\"title is-5\">Equities trader</h2>,\n",
       " <h2 class=\"title is-5\">Newspaper journalist</h2>,\n",
       " <h2 class=\"title is-5\">Materials engineer</h2>,\n",
       " <h2 class=\"title is-5\">Python Programmer (Entry-Level)</h2>,\n",
       " <h2 class=\"title is-5\">Product/process development scientist</h2>,\n",
       " <h2 class=\"title is-5\">Scientist, research (maths)</h2>,\n",
       " <h2 class=\"title is-5\">Ecologist</h2>,\n",
       " <h2 class=\"title is-5\">Materials engineer</h2>,\n",
       " <h2 class=\"title is-5\">Historic buildings inspector/conservation officer</h2>,\n",
       " <h2 class=\"title is-5\">Data scientist</h2>,\n",
       " <h2 class=\"title is-5\">Psychiatrist</h2>,\n",
       " <h2 class=\"title is-5\">Structural engineer</h2>,\n",
       " <h2 class=\"title is-5\">Immigration officer</h2>,\n",
       " <h2 class=\"title is-5\">Python Programmer (Entry-Level)</h2>,\n",
       " <h2 class=\"title is-5\">Neurosurgeon</h2>,\n",
       " <h2 class=\"title is-5\">Broadcast engineer</h2>,\n",
       " <h2 class=\"title is-5\">Make</h2>,\n",
       " <h2 class=\"title is-5\">Nurse, adult</h2>,\n",
       " <h2 class=\"title is-5\">Air broker</h2>,\n",
       " <h2 class=\"title is-5\">Editor, film/video</h2>,\n",
       " <h2 class=\"title is-5\">Production assistant, radio</h2>,\n",
       " <h2 class=\"title is-5\">Engineer, communications</h2>,\n",
       " <h2 class=\"title is-5\">Sales executive</h2>,\n",
       " <h2 class=\"title is-5\">Software Developer (Python)</h2>,\n",
       " <h2 class=\"title is-5\">Futures trader</h2>,\n",
       " <h2 class=\"title is-5\">Tour manager</h2>,\n",
       " <h2 class=\"title is-5\">Cytogeneticist</h2>,\n",
       " <h2 class=\"title is-5\">Designer, multimedia</h2>,\n",
       " <h2 class=\"title is-5\">Trade union research officer</h2>,\n",
       " <h2 class=\"title is-5\">Chemist, analytical</h2>,\n",
       " <h2 class=\"title is-5\">Programmer, multimedia</h2>,\n",
       " <h2 class=\"title is-5\">Engineer, broadcasting (operations)</h2>,\n",
       " <h2 class=\"title is-5\">Teacher, primary school</h2>,\n",
       " <h2 class=\"title is-5\">Python Developer</h2>,\n",
       " <h2 class=\"title is-5\">Manufacturing systems engineer</h2>,\n",
       " <h2 class=\"title is-5\">Producer, television/film/video</h2>,\n",
       " <h2 class=\"title is-5\">Scientist, forensic</h2>,\n",
       " <h2 class=\"title is-5\">Bonds trader</h2>,\n",
       " <h2 class=\"title is-5\">Editorial assistant</h2>,\n",
       " <h2 class=\"title is-5\">Photographer</h2>,\n",
       " <h2 class=\"title is-5\">Retail banker</h2>,\n",
       " <h2 class=\"title is-5\">Jewellery designer</h2>,\n",
       " <h2 class=\"title is-5\">Ophthalmologist</h2>,\n",
       " <h2 class=\"title is-5\">Back-End Web Developer (Python, Django)</h2>,\n",
       " <h2 class=\"title is-5\">Licensed conveyancer</h2>,\n",
       " <h2 class=\"title is-5\">Futures trader</h2>,\n",
       " <h2 class=\"title is-5\">Counselling psychologist</h2>,\n",
       " <h2 class=\"title is-5\">Insurance underwriter</h2>,\n",
       " <h2 class=\"title is-5\">Engineer, automotive</h2>,\n",
       " <h2 class=\"title is-5\">Producer, radio</h2>,\n",
       " <h2 class=\"title is-5\">Dispensing optician</h2>,\n",
       " <h2 class=\"title is-5\">Designer, fashion/clothing</h2>,\n",
       " <h2 class=\"title is-5\">Chartered loss adjuster</h2>,\n",
       " <h2 class=\"title is-5\">Back-End Web Developer (Python, Django)</h2>,\n",
       " <h2 class=\"title is-5\">Forest/woodland manager</h2>,\n",
       " <h2 class=\"title is-5\">Clinical cytogeneticist</h2>,\n",
       " <h2 class=\"title is-5\">Print production planner</h2>,\n",
       " <h2 class=\"title is-5\">Systems developer</h2>,\n",
       " <h2 class=\"title is-5\">Graphic designer</h2>,\n",
       " <h2 class=\"title is-5\">Writer</h2>,\n",
       " <h2 class=\"title is-5\">Field seismologist</h2>,\n",
       " <h2 class=\"title is-5\">Chief Strategy Officer</h2>,\n",
       " <h2 class=\"title is-5\">Air cabin crew</h2>,\n",
       " <h2 class=\"title is-5\">Python Programmer (Entry-Level)</h2>,\n",
       " <h2 class=\"title is-5\">Warden/ranger</h2>,\n",
       " <h2 class=\"title is-5\">Sports therapist</h2>,\n",
       " <h2 class=\"title is-5\">Arts development officer</h2>,\n",
       " <h2 class=\"title is-5\">Printmaker</h2>,\n",
       " <h2 class=\"title is-5\">Health and safety adviser</h2>,\n",
       " <h2 class=\"title is-5\">Manufacturing systems engineer</h2>,\n",
       " <h2 class=\"title is-5\">Programmer, applications</h2>,\n",
       " <h2 class=\"title is-5\">Medical physicist</h2>,\n",
       " <h2 class=\"title is-5\">Media planner</h2>,\n",
       " <h2 class=\"title is-5\">Software Developer (Python)</h2>,\n",
       " <h2 class=\"title is-5\">Surveyor, land/geomatics</h2>,\n",
       " <h2 class=\"title is-5\">Legal executive</h2>,\n",
       " <h2 class=\"title is-5\">Librarian, academic</h2>,\n",
       " <h2 class=\"title is-5\">Barrister</h2>,\n",
       " <h2 class=\"title is-5\">Museum/gallery exhibitions officer</h2>,\n",
       " <h2 class=\"title is-5\">Radiographer, diagnostic</h2>,\n",
       " <h2 class=\"title is-5\">Database administrator</h2>,\n",
       " <h2 class=\"title is-5\">Furniture designer</h2>,\n",
       " <h2 class=\"title is-5\">Ship broker</h2>]"
      ]
     },
     "execution_count": 242,
     "metadata": {},
     "output_type": "execute_result"
    }
   ],
   "source": [
    "job_title_list =soup.find_all('h2')\n",
    "job_title_list"
   ]
  },
  {
   "cell_type": "code",
   "execution_count": 244,
   "id": "d7ced448-3bc6-4bd9-b2c7-83c17d0b9d2d",
   "metadata": {},
   "outputs": [
    {
     "data": {
      "text/plain": [
       "<h2 class=\"title is-5\">Energy engineer</h2>"
      ]
     },
     "execution_count": 244,
     "metadata": {},
     "output_type": "execute_result"
    }
   ],
   "source": [
    "soup.findAll('h2')[1]"
   ]
  },
  {
   "cell_type": "code",
   "execution_count": 246,
   "id": "78faaea1-dd60-4ff1-9051-5ac60eab7680",
   "metadata": {},
   "outputs": [],
   "source": [
    "table=soup.findAll('div')"
   ]
  },
  {
   "cell_type": "code",
   "execution_count": null,
   "id": "52d524ce-fa2f-46b3-8da8-1bedc7e47f43",
   "metadata": {},
   "outputs": [],
   "source": []
  },
  {
   "cell_type": "code",
   "execution_count": 268,
   "id": "9d7c2a55-419c-4440-ad1a-cccd64b9680e",
   "metadata": {},
   "outputs": [],
   "source": [
    "soup.find('div', attrs={'h2' : 'wikitable'})"
   ]
  },
  {
   "cell_type": "code",
   "execution_count": 248,
   "id": "dd924e66-b6c1-4ead-8240-1065ce9b628b",
   "metadata": {},
   "outputs": [],
   "source": [
    "import pandas as pd\n",
    "import io"
   ]
  },
  {
   "cell_type": "code",
   "execution_count": 276,
   "id": "8e496eb3-72ee-4983-b87a-ce299eee02d3",
   "metadata": {},
   "outputs": [
    {
     "data": {
      "text/html": [
       "None"
      ],
      "text/plain": [
       "<IPython.core.display.HTML object>"
      ]
     },
     "execution_count": 276,
     "metadata": {},
     "output_type": "execute_result"
    }
   ],
   "source": [
    "table_html = str(soup.find('table', attrs={'class' : 'div'}))\n",
    "\n",
    "from IPython.core.display import HTML\n",
    "\n",
    "HTML(table_html)\n"
   ]
  },
  {
   "cell_type": "code",
   "execution_count": null,
   "id": "d4c52bf8-854d-4b6a-bff2-4fb40403e041",
   "metadata": {},
   "outputs": [],
   "source": []
  },
  {
   "cell_type": "code",
   "execution_count": null,
   "id": "f6e03737-1cf4-42ce-9552-ccbc2e283818",
   "metadata": {},
   "outputs": [],
   "source": []
  },
  {
   "cell_type": "code",
   "execution_count": null,
   "id": "da4c823b-ccab-4d6b-ac26-62e4e93d8f56",
   "metadata": {},
   "outputs": [],
   "source": []
  }
 ],
 "metadata": {
  "kernelspec": {
   "display_name": "Python [conda env:base] *",
   "language": "python",
   "name": "conda-base-py"
  },
  "language_info": {
   "codemirror_mode": {
    "name": "ipython",
    "version": 3
   },
   "file_extension": ".py",
   "mimetype": "text/x-python",
   "name": "python",
   "nbconvert_exporter": "python",
   "pygments_lexer": "ipython3",
   "version": "3.12.7"
  }
 },
 "nbformat": 4,
 "nbformat_minor": 5
}
